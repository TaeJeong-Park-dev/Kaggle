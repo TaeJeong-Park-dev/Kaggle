{
 "cells": [
  {
   "cell_type": "code",
   "execution_count": 1,
   "metadata": {},
   "outputs": [
    {
     "name": "stdout",
     "output_type": "stream",
     "text": [
      "Downloading titanic.zip to /usr/workspace/kaggle_study/kaggle_datasets\n",
      "  0%|                                               | 0.00/34.1k [00:00<?, ?B/s]\n",
      "100%|██████████████████████████████████████| 34.1k/34.1k [00:00<00:00, 6.88MB/s]\n"
     ]
    }
   ],
   "source": [
    "!kaggle competitions download -c titanic -p /usr/workspace/kaggle_study/kaggle_datasets"
   ]
  },
  {
   "cell_type": "code",
   "execution_count": 9,
   "metadata": {},
   "outputs": [],
   "source": [
    "import zipfile\n",
    "import os\n",
    "\n",
    "os.makedirs(\"kaggle_datasets/titanic\", exist_ok=True)\n",
    "\n",
    "z = zipfile.ZipFile(\"kaggle_datasets/titanic/titanic.zip\")\n",
    "z.extractall(path=\"kaggle_datasets/titanic\")\n",
    "\n",
    "os.remove(\"kaggle_datasets/titanic.zip\")"
   ]
  }
 ],
 "metadata": {
  "kernelspec": {
   "display_name": "Python 3",
   "language": "python",
   "name": "python3"
  },
  "language_info": {
   "codemirror_mode": {
    "name": "ipython",
    "version": 3
   },
   "file_extension": ".py",
   "mimetype": "text/x-python",
   "name": "python",
   "nbconvert_exporter": "python",
   "pygments_lexer": "ipython3",
   "version": "3.10.12"
  }
 },
 "nbformat": 4,
 "nbformat_minor": 2
}
